{
 "cells": [
  {
   "attachments": {},
   "cell_type": "markdown",
   "metadata": {},
   "source": [
    "import dummy dataset kedalam datatable\n",
    "1. import library yang dibutuhkan\n",
    "2. setting environment\n",
    "3. setting koneksi psycopg2\n",
    "4. buka file car_product.csv dan city.csv, kemudian lakukan looping untuk mengakses data setiap field\n",
    "5. insert data ke dalam tabel car_product dan city\n",
    "6. menutup koneksi\n"
   ]
  },
  {
   "attachments": {},
   "cell_type": "markdown",
   "metadata": {},
   "source": [
    "1. import library yang dibutuhkan"
   ]
  },
  {
   "cell_type": "code",
   "execution_count": 25,
   "metadata": {},
   "outputs": [],
   "source": [
    "import library\n",
    "import psycopg2\n",
    "import os\n",
    "from dotenv import load_dotenv, find_dotenv\n",
    "import csv"
   ]
  },
  {
   "attachments": {},
   "cell_type": "markdown",
   "metadata": {},
   "source": [
    "2. setting environment"
   ]
  },
  {
   "cell_type": "code",
   "execution_count": 26,
   "metadata": {},
   "outputs": [
    {
     "data": {
      "text/plain": [
       "True"
      ]
     },
     "execution_count": 26,
     "metadata": {},
     "output_type": "execute_result"
    }
   ],
   "source": [
    "# load .env\n",
    "load_dotenv(find_dotenv())"
   ]
  },
  {
   "attachments": {},
   "cell_type": "markdown",
   "metadata": {},
   "source": [
    "3. setting koneksi psycopg2"
   ]
  },
  {
   "cell_type": "markdown",
   "metadata": {},
   "source": [
    "#connect to postgre\n",
    "\n",
    "create a new database session and return a new connection object. the parameters:\n",
    "- dbname\n",
    "- user\n",
    "- password\n",
    "- host\n",
    "- import"
   ]
  },
  {
   "cell_type": "code",
   "execution_count": 45,
   "metadata": {},
   "outputs": [],
   "source": [
    "#conn stand for connection\n",
    "conn = psycopg2.connect(\n",
    "    dbname = os.getenv(\"DATABASE_NAME\"),\n",
    "    user = os.getenv(\"DATABASE_USERNAME\"),\n",
    "    password = os.getenv(\"DATABASE_PASSWORD\"),\n",
    "    host = os.getenv(\"DATABASE_HOST\"),\n",
    "    port = os.getenv(\"DATABASE_PORT\")\n",
    ")"
   ]
  },
  {
   "cell_type": "code",
   "execution_count": 46,
   "metadata": {},
   "outputs": [],
   "source": [
    "#variabel untuk menampung kursor\n",
    "cur = conn.cursor()"
   ]
  },
  {
   "attachments": {},
   "cell_type": "markdown",
   "metadata": {},
   "source": [
    "4. buka file car_product.csv dan city.csv, kemudian lakukan looping untuk mengakses data setiap field"
   ]
  },
  {
   "cell_type": "code",
   "execution_count": 38,
   "metadata": {},
   "outputs": [
    {
     "ename": "InterfaceError",
     "evalue": "cursor already closed",
     "output_type": "error",
     "traceback": [
      "\u001b[1;31m---------------------------------------------------------------------------\u001b[0m",
      "\u001b[1;31mInterfaceError\u001b[0m                            Traceback (most recent call last)",
      "Cell \u001b[1;32mIn[38], line 23\u001b[0m\n\u001b[0;32m     18\u001b[0m data \u001b[39m=\u001b[39m (brand, model, body_type, year, price)\n\u001b[0;32m     19\u001b[0m sql \u001b[39m=\u001b[39m \u001b[39m'''\u001b[39m\n\u001b[0;32m     20\u001b[0m \u001b[39m    INSERT INTO car_product(brand, model, body_type, year, price)\u001b[39m\n\u001b[0;32m     21\u001b[0m \u001b[39m    VALUES(\u001b[39m\u001b[39m%s\u001b[39;00m\u001b[39m, \u001b[39m\u001b[39m%s\u001b[39;00m\u001b[39m,\u001b[39m\u001b[39m%s\u001b[39;00m\u001b[39m, \u001b[39m\u001b[39m%s\u001b[39;00m\u001b[39m, \u001b[39m\u001b[39m%s\u001b[39;00m\u001b[39m)\u001b[39m\n\u001b[0;32m     22\u001b[0m \u001b[39m    \u001b[39m\u001b[39m'''\u001b[39m\n\u001b[1;32m---> 23\u001b[0m cur\u001b[39m.\u001b[39;49mexecute(sql,data)\n\u001b[0;32m     24\u001b[0m conn\u001b[39m.\u001b[39mcommit()\n",
      "\u001b[1;31mInterfaceError\u001b[0m: cursor already closed"
     ]
    }
   ],
   "source": [
    "#buka file car_product.csv\n",
    "#buka dengan mode 'r' (read)\n",
    "with open(file = 'car_product.csv', mode = 'r') as csvfile:\n",
    "    #buat objek\n",
    "    csv_dict_reader = csv.DictReader(csvfile)\n",
    "\n",
    "    #loop setiap baris data\n",
    "    for row in csv_dict_reader:\n",
    "\n",
    "        #assign variabel untuk menyimpan data setiap field\n",
    "        brand = row['brand']\n",
    "        model = row['model']\n",
    "        body_type = row['body_type']\n",
    "        year = row['year']\n",
    "        price = row['price']\n",
    "\n",
    "        #5. insert data ke dalam tabel car_product\n",
    "        data = (brand, model, body_type, year, price)\n",
    "        sql = '''\n",
    "            INSERT INTO car_product(brand, model, body_type, year, price)\n",
    "            VALUES(%s, %s,%s, %s, %s)\n",
    "            '''\n",
    "        cur.execute(sql,data)\n",
    "        conn.commit()"
   ]
  },
  {
   "cell_type": "code",
   "execution_count": 47,
   "metadata": {},
   "outputs": [],
   "source": [
    "#buka file city.csv\n",
    "#buka dengan mode 'r' (read)\n",
    "with open(file = 'city.csv', mode = 'r') as csvfile:\n",
    "    #buat objek\n",
    "    csv_dict_reader = csv.DictReader(csvfile)\n",
    "\n",
    "    #loop setiap baris data\n",
    "    for row in csv_dict_reader:\n",
    "\n",
    "        #assign variabel untuk menyimpan data setiap field\n",
    "        kota_id = row['kota_id']\n",
    "        nama_kota = row['nama_kota']\n",
    "        latitude = row['latitude']\n",
    "        longitude = row['longitude']\n",
    "\n",
    "        #5. insert data ke dalam tabel car_product dan city\n",
    "        data = (kota_id, nama_kota, latitude, longitude)\n",
    "        sql = '''\n",
    "            INSERT INTO city(city_id, city_name, latitude, longitude)\n",
    "            VALUES(%s, %s,%s, %s)\n",
    "            '''\n",
    "        cur.execute(sql,data)\n",
    "        conn.commit()"
   ]
  },
  {
   "attachments": {},
   "cell_type": "markdown",
   "metadata": {},
   "source": [
    "6. menutup koneksi"
   ]
  },
  {
   "cell_type": "code",
   "execution_count": 48,
   "metadata": {},
   "outputs": [],
   "source": [
    "cur.close()\n",
    "conn.close()"
   ]
  }
 ],
 "metadata": {
  "kernelspec": {
   "display_name": "Python 3",
   "language": "python",
   "name": "python3"
  },
  "language_info": {
   "codemirror_mode": {
    "name": "ipython",
    "version": 3
   },
   "file_extension": ".py",
   "mimetype": "text/x-python",
   "name": "python",
   "nbconvert_exporter": "python",
   "pygments_lexer": "ipython3",
   "version": "3.9.1"
  },
  "orig_nbformat": 4
 },
 "nbformat": 4,
 "nbformat_minor": 2
}
